{
  "nbformat": 4,
  "nbformat_minor": 0,
  "metadata": {
    "colab": {
      "name": "Section 2_27 &28.ipynb",
      "provenance": [],
      "authorship_tag": "ABX9TyOKdrBRECtRWfiHOeVNbHf3",
      "include_colab_link": true
    },
    "kernelspec": {
      "name": "python3",
      "display_name": "Python 3"
    },
    "language_info": {
      "name": "python"
    }
  },
  "cells": [
    {
      "cell_type": "markdown",
      "metadata": {
        "id": "view-in-github",
        "colab_type": "text"
      },
      "source": [
        "<a href=\"https://colab.research.google.com/github/haceworld/TensorFlow-Developer-Certification-Course/blob/main/Section_2_27_%2628.ipynb\" target=\"_parent\"><img src=\"https://colab.research.google.com/assets/colab-badge.svg\" alt=\"Open In Colab\"/></a>"
      ]
    },
    {
      "cell_type": "markdown",
      "source": [
        "**Finding the min, max, mean, sum (aggregation)**\n",
        "\n",
        "You can quickly aggregate (perform a calculation on a whole tensor) tensors to find things like the minimum value, maximum value, mean and sum of all the elements.\n",
        "\n",
        "To do so, aggregation methods typically have the syntax reduce()_[action], such as:\n",
        "\n",
        "tf.reduce_min() - find the minimum value in a tensor.\n",
        "\n",
        "tf.reduce_max() - find the maximum value in a tensor (helpful for when you want to find the highest prediction probability).\n",
        "\n",
        "\n",
        "tf.reduce_mean() - find the mean of all elements in a tensor.\n",
        "\n",
        "tf.reduce_sum() - find the sum of all elements in a tensor.\n",
        "\n",
        "**Note:** typically, each of these is under the math module, e.g. tf.math.reduce_min() but you can use the alias tf.reduce_min().\n",
        "Let's see them in action."
      ],
      "metadata": {
        "id": "yNJmLwWc23MQ"
      }
    },
    {
      "cell_type": "code",
      "source": [
        "import tensorflow as tf\n",
        "import numpy as np"
      ],
      "metadata": {
        "id": "xI96BmYeTSCw"
      },
      "execution_count": null,
      "outputs": []
    },
    {
      "cell_type": "code",
      "source": [
        "# Create a tensor with 50 random values between 0 and 100\n",
        "E = tf.constant(np.random.randint(low=0, high=100, size=50))\n",
        "# E = tf.constant(np.random.randint(0, 100, size=50)) # can be written this way too.\n",
        "E"
      ],
      "metadata": {
        "colab": {
          "base_uri": "https://localhost:8080/"
        },
        "id": "AJ5QIsOu3GJA",
        "outputId": "82fe96fa-de52-45ea-b5be-6aa0276dbf03"
      },
      "execution_count": null,
      "outputs": [
        {
          "output_type": "execute_result",
          "data": {
            "text/plain": [
              "<tf.Tensor: shape=(50,), dtype=int64, numpy=\n",
              "array([56, 96, 98,  8, 44, 90, 67, 64, 33, 48, 14, 99, 70, 95, 61, 52,  4,\n",
              "       48, 49,  1, 32, 61, 16, 65, 58, 37, 65, 87, 45, 77, 90, 97, 12, 78,\n",
              "        7, 63, 63, 22,  3, 98, 73, 45, 76, 16, 56, 55, 72, 68, 66, 63])>"
            ]
          },
          "metadata": {},
          "execution_count": 4
        }
      ]
    },
    {
      "cell_type": "code",
      "source": [
        "# Find the minimum\n",
        "tf.reduce_min(E)"
      ],
      "metadata": {
        "colab": {
          "base_uri": "https://localhost:8080/"
        },
        "id": "7Anl7uIZ3JM6",
        "outputId": "b0f7bfe5-7f1d-4606-877e-caf4cd9ceec3"
      },
      "execution_count": null,
      "outputs": [
        {
          "output_type": "execute_result",
          "data": {
            "text/plain": [
              "<tf.Tensor: shape=(), dtype=int64, numpy=1>"
            ]
          },
          "metadata": {},
          "execution_count": 5
        }
      ]
    },
    {
      "cell_type": "code",
      "source": [
        "# Find the maximum\n",
        "tf.reduce_max(E)"
      ],
      "metadata": {
        "colab": {
          "base_uri": "https://localhost:8080/"
        },
        "id": "7KfIXZya3JYQ",
        "outputId": "cbaab9e3-aa05-4386-b8c2-503184c3837c"
      },
      "execution_count": null,
      "outputs": [
        {
          "output_type": "execute_result",
          "data": {
            "text/plain": [
              "<tf.Tensor: shape=(), dtype=int64, numpy=99>"
            ]
          },
          "metadata": {},
          "execution_count": 6
        }
      ]
    },
    {
      "cell_type": "code",
      "source": [
        "# Find the mean\n",
        "tf.reduce_mean(E)"
      ],
      "metadata": {
        "colab": {
          "base_uri": "https://localhost:8080/"
        },
        "id": "lW2KFrqI3Jh9",
        "outputId": "93cfd10f-4200-4873-f94b-b1fc679a2f20"
      },
      "execution_count": null,
      "outputs": [
        {
          "output_type": "execute_result",
          "data": {
            "text/plain": [
              "<tf.Tensor: shape=(), dtype=int64, numpy=55>"
            ]
          },
          "metadata": {},
          "execution_count": 7
        }
      ]
    },
    {
      "cell_type": "code",
      "source": [
        "# Find the sum\n",
        "tf.reduce_sum(E)"
      ],
      "metadata": {
        "colab": {
          "base_uri": "https://localhost:8080/"
        },
        "id": "MoIRAKlV3Jxr",
        "outputId": "01eed6c5-6f72-48b9-ae9f-17d61c61e440"
      },
      "execution_count": null,
      "outputs": [
        {
          "output_type": "execute_result",
          "data": {
            "text/plain": [
              "<tf.Tensor: shape=(), dtype=int64, numpy=2763>"
            ]
          },
          "metadata": {},
          "execution_count": 8
        }
      ]
    },
    {
      "cell_type": "markdown",
      "source": [
        "#28. Tensor Troubleshooting example (updating tensor datatypes)"
      ],
      "metadata": {
        "id": "YM7if2ymdiMY"
      }
    },
    {
      "cell_type": "code",
      "source": [
        "#Find the variance\n",
        "# tf.reduce_variance(E) # won't work ....\n",
        "\n",
        "# To find the variance of our tensor, we need access to tensorflow_probability\n",
        "import tensorflow_probability as tfp\n",
        "tfp.stats.variance(E)"
      ],
      "metadata": {
        "colab": {
          "base_uri": "https://localhost:8080/"
        },
        "id": "2DHVs9QNaSBR",
        "outputId": "bbe16edf-5072-4fc4-aaf8-e205e5ceddce"
      },
      "execution_count": null,
      "outputs": [
        {
          "output_type": "execute_result",
          "data": {
            "text/plain": [
              "<tf.Tensor: shape=(), dtype=int64, numpy=792>"
            ]
          },
          "metadata": {},
          "execution_count": 12
        }
      ]
    },
    {
      "cell_type": "code",
      "source": [
        "#Find the variance using the tf.math.reduce\n",
        "\n",
        "tf.math.reduce_variance(tf.cast(E, dtype=tf.float32))"
      ],
      "metadata": {
        "colab": {
          "base_uri": "https://localhost:8080/"
        },
        "id": "U_deOgC8gfwo",
        "outputId": "94e30827-45af-4d7e-fb05-c8f443e1a0d1"
      },
      "execution_count": null,
      "outputs": [
        {
          "output_type": "execute_result",
          "data": {
            "text/plain": [
              "<tf.Tensor: shape=(), dtype=float32, numpy=792.55237>"
            ]
          },
          "metadata": {},
          "execution_count": 15
        }
      ]
    },
    {
      "cell_type": "code",
      "source": [
        "# Find the standard deviation\n",
        "# tf.reduce_stddev(E) # won't work ...\n",
        "# tf.math.reduce_std(E) # wont work too ...\n",
        "\n",
        "\n",
        "tf.math.reduce_std(tf.cast(E, dtype=tf.float32))"
      ],
      "metadata": {
        "colab": {
          "base_uri": "https://localhost:8080/"
        },
        "id": "iHslbQkiaTiQ",
        "outputId": "0add03cd-bd0b-434a-f4b3-6e4d80c7b2bd"
      },
      "execution_count": null,
      "outputs": [
        {
          "output_type": "execute_result",
          "data": {
            "text/plain": [
              "<tf.Tensor: shape=(), dtype=float32, numpy=28.152308>"
            ]
          },
          "metadata": {},
          "execution_count": 14
        }
      ]
    },
    {
      "cell_type": "markdown",
      "source": [
        "You can also find the standard deviation (tf.reduce_std()) and variance (tf.reduce_variance()) of elements in a tensor using similar methods."
      ],
      "metadata": {
        "id": "gYv_4qo3ifUL"
      }
    },
    {
      "cell_type": "code",
      "source": [
        ""
      ],
      "metadata": {
        "id": "uhwQYeOXigMl"
      },
      "execution_count": null,
      "outputs": []
    }
  ]
}