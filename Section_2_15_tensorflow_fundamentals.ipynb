{
  "nbformat": 4,
  "nbformat_minor": 0,
  "metadata": {
    "colab": {
      "name": "Section 2_15_tensorflow_fundamentals.ipynb",
      "provenance": [],
      "authorship_tag": "ABX9TyNZ3Mm/jZhRrmrDmuMItD+b",
      "include_colab_link": true
    },
    "kernelspec": {
      "name": "python3",
      "display_name": "Python 3"
    },
    "language_info": {
      "name": "python"
    }
  },
  "cells": [
    {
      "cell_type": "markdown",
      "metadata": {
        "id": "view-in-github",
        "colab_type": "text"
      },
      "source": [
        "<a href=\"https://colab.research.google.com/github/haceworld/TensorFlow-Developer-Certification-Course/blob/main/Section_2_15_tensorflow_fundamentals.ipynb\" target=\"_parent\"><img src=\"https://colab.research.google.com/assets/colab-badge.svg\" alt=\"Open In Colab\"/></a>"
      ]
    },
    {
      "cell_type": "markdown",
      "source": [
        "# In this notebook, we're going to cover some of the most fundamental concepts of tensors using TensorFlow\n",
        "\n",
        "More specifically, we're going to cover:\n",
        "* Introduction to tensors\n",
        "* Getting information frrom tensors\n",
        "* Manipulating tensors\n",
        "* Tensors & Numpy\n",
        "* Using @tf.function (a way to speed up your regular Python functions)\n",
        "* Using GPUs with TensorFlow (or TPUs)\n",
        "* Exercises to try for yourself!"
      ],
      "metadata": {
        "id": "j2Q2tPsbUqvr"
      }
    },
    {
      "cell_type": "code",
      "source": [
        "# Import Tensorflow\n",
        "import tensorflow as tf\n",
        "print(tf.__version__)"
      ],
      "metadata": {
        "colab": {
          "base_uri": "https://localhost:8080/"
        },
        "id": "JCeIfiw-ZUZ4",
        "outputId": "72ad770b-c2fd-4c2f-e1af-eca1da43207c"
      },
      "execution_count": 2,
      "outputs": [
        {
          "output_type": "stream",
          "name": "stdout",
          "text": [
            "2.8.0\n"
          ]
        }
      ]
    },
    {
      "cell_type": "code",
      "source": [
        "#create with tensor with tf.constant()\n",
        "scalar = tf.constant(9)\n",
        "scalar"
      ],
      "metadata": {
        "colab": {
          "base_uri": "https://localhost:8080/"
        },
        "id": "WAZjlLfGapPL",
        "outputId": "11b64622-ac26-4fcc-ff2e-b45185ef24a8"
      },
      "execution_count": 3,
      "outputs": [
        {
          "output_type": "execute_result",
          "data": {
            "text/plain": [
              "<tf.Tensor: shape=(), dtype=int32, numpy=9>"
            ]
          },
          "metadata": {},
          "execution_count": 3
        }
      ]
    },
    {
      "cell_type": "code",
      "source": [
        "# Check the number of dimensions of a tensor (ndim stands for number of dimensions)\n",
        "scalar.ndim"
      ],
      "metadata": {
        "colab": {
          "base_uri": "https://localhost:8080/"
        },
        "id": "02689NMYcV9w",
        "outputId": "899444cf-91b6-44b6-ea0f-4578ce18b432"
      },
      "execution_count": 4,
      "outputs": [
        {
          "output_type": "execute_result",
          "data": {
            "text/plain": [
              "0"
            ]
          },
          "metadata": {},
          "execution_count": 4
        }
      ]
    },
    {
      "cell_type": "code",
      "source": [
        "#create a vector\n",
        "vector = tf.constant([10, 10])\n",
        "vector"
      ],
      "metadata": {
        "colab": {
          "base_uri": "https://localhost:8080/"
        },
        "id": "GljIDxS4dB0u",
        "outputId": "7357b399-53f9-4501-d2b0-8647df2e98d1"
      },
      "execution_count": 6,
      "outputs": [
        {
          "output_type": "execute_result",
          "data": {
            "text/plain": [
              "<tf.Tensor: shape=(2,), dtype=int32, numpy=array([10, 10], dtype=int32)>"
            ]
          },
          "metadata": {},
          "execution_count": 6
        }
      ]
    },
    {
      "cell_type": "code",
      "source": [
        "# check the dimension of the vector\n",
        "vector.ndim"
      ],
      "metadata": {
        "colab": {
          "base_uri": "https://localhost:8080/"
        },
        "id": "b3Jm8qbDduGQ",
        "outputId": "2cda225c-433e-4cf4-d433-56aaab4da2a3"
      },
      "execution_count": 7,
      "outputs": [
        {
          "output_type": "execute_result",
          "data": {
            "text/plain": [
              "1"
            ]
          },
          "metadata": {},
          "execution_count": 7
        }
      ]
    },
    {
      "cell_type": "code",
      "source": [
        "# create a matrix (with more than 1 dimension)\n",
        "matrix = tf.constant([[9, 9], [7, 7], [8, 8]])\n",
        "matrix"
      ],
      "metadata": {
        "colab": {
          "base_uri": "https://localhost:8080/"
        },
        "id": "fH3ocjkYepCP",
        "outputId": "6c607b54-3c12-40f7-fc33-86ffac4ecdc3"
      },
      "execution_count": 8,
      "outputs": [
        {
          "output_type": "execute_result",
          "data": {
            "text/plain": [
              "<tf.Tensor: shape=(3, 2), dtype=int32, numpy=\n",
              "array([[9, 9],\n",
              "       [7, 7],\n",
              "       [8, 8]], dtype=int32)>"
            ]
          },
          "metadata": {},
          "execution_count": 8
        }
      ]
    },
    {
      "cell_type": "code",
      "source": [
        "#check the dimension of the matrix\n",
        "matrix.ndim"
      ],
      "metadata": {
        "colab": {
          "base_uri": "https://localhost:8080/"
        },
        "id": "DBghSB7LflQn",
        "outputId": "1ae2bdbb-9b81-4b1a-982f-b9fb6257d791"
      },
      "execution_count": 9,
      "outputs": [
        {
          "output_type": "execute_result",
          "data": {
            "text/plain": [
              "2"
            ]
          },
          "metadata": {},
          "execution_count": 9
        }
      ]
    },
    {
      "cell_type": "code",
      "source": [
        "# create a matrix (with more than 1 dimension)\n",
        "matrix1 = tf.constant([[9, 2, 1, 9], [7, 5, 2, 7], [8, 1, 0,  8]])\n",
        "matrix1\n"
      ],
      "metadata": {
        "colab": {
          "base_uri": "https://localhost:8080/"
        },
        "id": "lF0iFAchgPFR",
        "outputId": "00311b97-3ee3-422d-abf6-1dee3d1b1c3b"
      },
      "execution_count": 13,
      "outputs": [
        {
          "output_type": "execute_result",
          "data": {
            "text/plain": [
              "<tf.Tensor: shape=(3, 4), dtype=int32, numpy=\n",
              "array([[9, 2, 1, 9],\n",
              "       [7, 5, 2, 7],\n",
              "       [8, 1, 0, 8]], dtype=int32)>"
            ]
          },
          "metadata": {},
          "execution_count": 13
        }
      ]
    },
    {
      "cell_type": "code",
      "source": [
        "matrix1.ndim"
      ],
      "metadata": {
        "colab": {
          "base_uri": "https://localhost:8080/"
        },
        "id": "OzyyPoYcgmpk",
        "outputId": "27cac9d8-a553-4a1e-93fc-0105571ca1d8"
      },
      "execution_count": 14,
      "outputs": [
        {
          "output_type": "execute_result",
          "data": {
            "text/plain": [
              "2"
            ]
          },
          "metadata": {},
          "execution_count": 14
        }
      ]
    },
    {
      "cell_type": "code",
      "source": [
        "#another matrix with tf.float\n",
        "matrix3 = tf.constant([[10., 7.],\n",
        "                       [3., 2.],\n",
        "                       [8., 5.]], dtype=tf.float16) # specify the data type with float\n",
        "matrix3"
      ],
      "metadata": {
        "colab": {
          "base_uri": "https://localhost:8080/"
        },
        "id": "Q3r0GWIgnC0A",
        "outputId": "33c3333d-43bb-4593-e9e6-ab446e712cc4"
      },
      "execution_count": 23,
      "outputs": [
        {
          "output_type": "execute_result",
          "data": {
            "text/plain": [
              "<tf.Tensor: shape=(3, 2), dtype=float16, numpy=\n",
              "array([[10.,  7.],\n",
              "       [ 3.,  2.],\n",
              "       [ 8.,  5.]], dtype=float16)>"
            ]
          },
          "metadata": {},
          "execution_count": 23
        }
      ]
    },
    {
      "cell_type": "code",
      "source": [
        "matrix3.ndim"
      ],
      "metadata": {
        "colab": {
          "base_uri": "https://localhost:8080/"
        },
        "id": "BIdVKLwpoIFo",
        "outputId": "d8738891-d55b-4a6d-fb34-a82d9a25fae8"
      },
      "execution_count": 24,
      "outputs": [
        {
          "output_type": "execute_result",
          "data": {
            "text/plain": [
              "2"
            ]
          },
          "metadata": {},
          "execution_count": 24
        }
      ]
    },
    {
      "cell_type": "markdown",
      "source": [
        "Note: scalar always has zero (0) dimension, vector always has one (1) dimension, and matrix has two (2) dimension.\n"
      ],
      "metadata": {
        "id": "XDULlizxiZgR"
      }
    },
    {
      "cell_type": "code",
      "source": [
        "#Let's create a tensor\n",
        "tensor = tf.constant([[[1, 2, 3],\n",
        "                       [3, 4, 5]],\n",
        "                      [[5, 6, 7],\n",
        "                       [8, 6, 9]],\n",
        "                      [[2, 1, 5],\n",
        "                       [5, 7, 8]]])\n",
        "tensor"
      ],
      "metadata": {
        "colab": {
          "base_uri": "https://localhost:8080/"
        },
        "id": "51G7fUGVi_ir",
        "outputId": "5a556fbf-c0fb-4194-80b6-ca4f7a9aa90e"
      },
      "execution_count": 15,
      "outputs": [
        {
          "output_type": "execute_result",
          "data": {
            "text/plain": [
              "<tf.Tensor: shape=(3, 2, 3), dtype=int32, numpy=\n",
              "array([[[1, 2, 3],\n",
              "        [3, 4, 5]],\n",
              "\n",
              "       [[5, 6, 7],\n",
              "        [8, 6, 9]],\n",
              "\n",
              "       [[2, 1, 5],\n",
              "        [5, 7, 8]]], dtype=int32)>"
            ]
          },
          "metadata": {},
          "execution_count": 15
        }
      ]
    },
    {
      "cell_type": "code",
      "source": [
        "tensor.ndim"
      ],
      "metadata": {
        "colab": {
          "base_uri": "https://localhost:8080/"
        },
        "id": "bZEy7YPFm0_Q",
        "outputId": "e7552a29-a9fa-43de-f9c4-08040ec61a6e"
      },
      "execution_count": 21,
      "outputs": [
        {
          "output_type": "execute_result",
          "data": {
            "text/plain": [
              "3"
            ]
          },
          "metadata": {},
          "execution_count": 21
        }
      ]
    },
    {
      "cell_type": "code",
      "source": [
        "tensor1 = tf.constant([[[1, 2, 3],\n",
        "                       [3, 4, 5]],\n",
        "                      [[5, 6, 7],\n",
        "                       [8, 6, 9]],\n",
        "                      [[2, 1, 5],\n",
        "                       [5, 7, 8]],\n",
        "                      [[4, 7, 8],\n",
        "                       [4, 7, 2]]])\n",
        "tensor1"
      ],
      "metadata": {
        "colab": {
          "base_uri": "https://localhost:8080/"
        },
        "id": "pwI-gHzXlDNg",
        "outputId": "e12ac17e-23f5-4e31-efe5-846ebe84529d"
      },
      "execution_count": 16,
      "outputs": [
        {
          "output_type": "execute_result",
          "data": {
            "text/plain": [
              "<tf.Tensor: shape=(4, 2, 3), dtype=int32, numpy=\n",
              "array([[[1, 2, 3],\n",
              "        [3, 4, 5]],\n",
              "\n",
              "       [[5, 6, 7],\n",
              "        [8, 6, 9]],\n",
              "\n",
              "       [[2, 1, 5],\n",
              "        [5, 7, 8]],\n",
              "\n",
              "       [[4, 7, 8],\n",
              "        [4, 7, 2]]], dtype=int32)>"
            ]
          },
          "metadata": {},
          "execution_count": 16
        }
      ]
    },
    {
      "cell_type": "code",
      "source": [
        "tensor1.ndim"
      ],
      "metadata": {
        "colab": {
          "base_uri": "https://localhost:8080/"
        },
        "id": "7KZaHX1jmwE2",
        "outputId": "5430058e-ec97-4ac4-fa70-3f9090074c63"
      },
      "execution_count": 20,
      "outputs": [
        {
          "output_type": "execute_result",
          "data": {
            "text/plain": [
              "3"
            ]
          },
          "metadata": {},
          "execution_count": 20
        }
      ]
    },
    {
      "cell_type": "code",
      "source": [
        "tensor2 = tf.constant([[[1, 2],\n",
        "                       [3, 4],\n",
        "                       [5, 1]],\n",
        "                      [[5, 6],\n",
        "                       [8, 6],\n",
        "                       [7, 4]],\n",
        "                      [[2, 1],\n",
        "                       [5, 3],\n",
        "                       [5, 7]],\n",
        "                      [[5, 2],\n",
        "                       [4, 8],\n",
        "                       [9, 2]]])\n",
        "tensor2"
      ],
      "metadata": {
        "colab": {
          "base_uri": "https://localhost:8080/"
        },
        "id": "Rnzd5sdZleaw",
        "outputId": "22607ec0-b501-41cf-e80a-8381dce0dead"
      },
      "execution_count": 17,
      "outputs": [
        {
          "output_type": "execute_result",
          "data": {
            "text/plain": [
              "<tf.Tensor: shape=(4, 3, 2), dtype=int32, numpy=\n",
              "array([[[1, 2],\n",
              "        [3, 4],\n",
              "        [5, 1]],\n",
              "\n",
              "       [[5, 6],\n",
              "        [8, 6],\n",
              "        [7, 4]],\n",
              "\n",
              "       [[2, 1],\n",
              "        [5, 3],\n",
              "        [5, 7]],\n",
              "\n",
              "       [[5, 2],\n",
              "        [4, 8],\n",
              "        [9, 2]]], dtype=int32)>"
            ]
          },
          "metadata": {},
          "execution_count": 17
        }
      ]
    },
    {
      "cell_type": "code",
      "source": [
        "tensor2.ndim"
      ],
      "metadata": {
        "colab": {
          "base_uri": "https://localhost:8080/"
        },
        "id": "vljiiELJmnms",
        "outputId": "557889cb-f0a9-43d0-f935-fb1d0ea30d54"
      },
      "execution_count": 19,
      "outputs": [
        {
          "output_type": "execute_result",
          "data": {
            "text/plain": [
              "3"
            ]
          },
          "metadata": {},
          "execution_count": 19
        }
      ]
    },
    {
      "cell_type": "markdown",
      "source": [
        "What I've created so far:\n",
        "* Scalar: a single number\n",
        "* Vector: a number with direction (e.g wind speed and direction)\n",
        "* Matrix: a 2-dimensional array of numbers\n",
        "* Tensor: an n-dimensional array of numbers (where n can be any number, a 0-dimensional tensor is a scalar, a 1-dimensional tensor is a vector) "
      ],
      "metadata": {
        "id": "4uuO8A8ytQrX"
      }
    }
  ]
}